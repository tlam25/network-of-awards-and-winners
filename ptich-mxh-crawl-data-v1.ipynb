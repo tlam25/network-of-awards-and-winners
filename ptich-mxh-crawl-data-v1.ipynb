{
 "cells": [
  {
   "cell_type": "code",
   "execution_count": 1,
   "id": "d3139898",
   "metadata": {
    "execution": {
     "iopub.execute_input": "2025-10-12T05:25:15.112527Z",
     "iopub.status.busy": "2025-10-12T05:25:15.111920Z",
     "iopub.status.idle": "2025-10-12T05:25:22.790214Z",
     "shell.execute_reply": "2025-10-12T05:25:22.788926Z"
    },
    "papermill": {
     "duration": 7.683676,
     "end_time": "2025-10-12T05:25:22.792356",
     "exception": false,
     "start_time": "2025-10-12T05:25:15.108680",
     "status": "completed"
    },
    "tags": []
   },
   "outputs": [
    {
     "name": "stdout",
     "output_type": "stream",
     "text": [
      "Collecting wikipedia-api\r\n",
      "  Downloading wikipedia_api-0.8.1.tar.gz (19 kB)\r\n",
      "  Preparing metadata (setup.py) ... \u001b[?25l\u001b[?25hdone\r\n",
      "Requirement already satisfied: requests in /usr/local/lib/python3.11/dist-packages (from wikipedia-api) (2.32.4)\r\n",
      "Requirement already satisfied: charset_normalizer<4,>=2 in /usr/local/lib/python3.11/dist-packages (from requests->wikipedia-api) (3.4.2)\r\n",
      "Requirement already satisfied: idna<4,>=2.5 in /usr/local/lib/python3.11/dist-packages (from requests->wikipedia-api) (3.10)\r\n",
      "Requirement already satisfied: urllib3<3,>=1.21.1 in /usr/local/lib/python3.11/dist-packages (from requests->wikipedia-api) (2.5.0)\r\n",
      "Requirement already satisfied: certifi>=2017.4.17 in /usr/local/lib/python3.11/dist-packages (from requests->wikipedia-api) (2025.6.15)\r\n",
      "Building wheels for collected packages: wikipedia-api\r\n",
      "  Building wheel for wikipedia-api (setup.py) ... \u001b[?25l\u001b[?25hdone\r\n",
      "  Created wheel for wikipedia-api: filename=Wikipedia_API-0.8.1-py3-none-any.whl size=15383 sha256=ad9084fcacf61b1811717e6f6e2590f89d6317273604e63864c9e3caf687d296\r\n",
      "  Stored in directory: /root/.cache/pip/wheels/0b/0f/39/e8214ec038ccd5aeb8c82b957289f2f3ab2251febeae5c2860\r\n",
      "Successfully built wikipedia-api\r\n",
      "Installing collected packages: wikipedia-api\r\n",
      "Successfully installed wikipedia-api-0.8.1\r\n"
     ]
    }
   ],
   "source": [
    "!pip install wikipedia-api"
   ]
  },
  {
   "cell_type": "code",
   "execution_count": 2,
   "id": "3c8659c4",
   "metadata": {
    "_cell_guid": "b1076dfc-b9ad-4769-8c92-a6c4dae69d19",
    "_uuid": "8f2839f25d086af736a60e9eeb907d3b93b6e0e5",
    "execution": {
     "iopub.execute_input": "2025-10-12T05:25:22.798576Z",
     "iopub.status.busy": "2025-10-12T05:25:22.798216Z",
     "iopub.status.idle": "2025-10-12T06:29:06.214422Z",
     "shell.execute_reply": "2025-10-12T06:29:06.213343Z"
    },
    "papermill": {
     "duration": 3823.421241,
     "end_time": "2025-10-12T06:29:06.216096",
     "exception": false,
     "start_time": "2025-10-12T05:25:22.794855",
     "status": "completed"
    },
    "tags": []
   },
   "outputs": [
    {
     "name": "stderr",
     "output_type": "stream",
     "text": [
      "Crawling Nobel:  73%|███████▎  | 3671/5000 [1:03:43<23:04,  1.04s/it]"
     ]
    },
    {
     "name": "stdout",
     "output_type": "stream",
     "text": [
      "✅ Done: 5000 nodes saved to nobel_nodes.jsonl\n"
     ]
    },
    {
     "name": "stderr",
     "output_type": "stream",
     "text": [
      "\n"
     ]
    }
   ],
   "source": [
    "import wikipediaapi\n",
    "import json\n",
    "from collections import deque, defaultdict\n",
    "from tqdm import tqdm\n",
    "import os\n",
    "\n",
    "wiki = wikipediaapi.Wikipedia(user_agent=\"NobelGraphBot/1.0\", language=\"vi\")\n",
    "\n",
    "SEEDS = [\n",
    "    \"Danh sách người đoạt giải Nobel\",\n",
    "    \"Danh sách người đoạt giải Nobel Vật lý\",\n",
    "    \"Danh sách người đoạt giải Nobel Hóa học\",\n",
    "    \"Danh sách người đoạt giải Nobel Sinh lý học và Y học\",\n",
    "    \"Danh sách người đoạt giải Nobel Văn học\",\n",
    "    \"Danh sách người đoạt giải Nobel Hòa bình\",\n",
    "    \"Danh sách người đoạt giải Nobel Kinh tế học\",\n",
    "    \"giải Nobel\"\n",
    "]\n",
    "\n",
    "PERSON_KEYWORDS = [\n",
    "    \"giải Nobel\", \"người đoạt\", \"nhà khoa học\", \"nhà văn\",\n",
    "    \"nhà kinh tế\", \"nhà vật lý\", \"bác sĩ\"\n",
    "]\n",
    "CATEGORY_KEYWORDS = [\"giải Nobel\", \"nhà khoa học\", \"nhà văn\", \"nhà kinh tế\", \"nhân vật\"]\n",
    "\n",
    "def save_jsonl(fname, data):\n",
    "    with open(fname, \"a\", encoding=\"utf-8\") as f:\n",
    "        f.write(json.dumps(data, ensure_ascii=False) + \"\\n\")\n",
    "\n",
    "def match_category(page):\n",
    "    try:\n",
    "        cats = page.categories.keys()\n",
    "        return any(any(kw.lower() in cat.lower() for kw in CATEGORY_KEYWORDS) for cat in cats)\n",
    "    except:\n",
    "        return False\n",
    "\n",
    "def crawl_nobel_graph(max_depth=2, max_links=500, max_nodes=5000):\n",
    "    queue = deque([(seed, 0) for seed in SEEDS])\n",
    "    visited = set()\n",
    "    indegree = defaultdict(int)\n",
    "\n",
    "    open(\"nobel_nodes.jsonl\", \"w\").close()\n",
    "    open(\"nobel_edges.jsonl\", \"w\").close()\n",
    "\n",
    "    pbar = tqdm(total=max_nodes, desc=\"Crawling Nobel\")\n",
    "\n",
    "    while queue and len(visited) < max_nodes:\n",
    "        title, depth = queue.popleft()\n",
    "        if title in visited:\n",
    "            continue\n",
    "        visited.add(title)\n",
    "\n",
    "        page = wiki.page(title)\n",
    "        if not page.exists():\n",
    "            continue\n",
    "\n",
    "        node_data = {\n",
    "            \"id\": title,\n",
    "            \"title\": title,\n",
    "            \"depth\": depth,\n",
    "            \"text\": page.summary  # chỉ lưu tóm tắt để gọn\n",
    "        }\n",
    "        save_jsonl(\"nobel_nodes.jsonl\", node_data)\n",
    "        pbar.update(1)\n",
    "\n",
    "        if depth >= max_depth:\n",
    "            continue\n",
    "\n",
    "        for link in list(page.links.keys())[:max_links]:\n",
    "            if any(prefix in link for prefix in [\"Wikipedia:\", \"Thể loại:\", \"Tập tin:\", \"Mẫu:\"]):\n",
    "                continue\n",
    "            edge = {\"source\": title, \"target\": link}\n",
    "            save_jsonl(\"nobel_edges.jsonl\", edge)\n",
    "            indegree[link] += 1\n",
    "\n",
    "            lower_link = link.lower()\n",
    "            if (\n",
    "                any(kw in lower_link for kw in PERSON_KEYWORDS)\n",
    "                or indegree[link] >= 2\n",
    "                or match_category(wiki.page(link))\n",
    "            ):\n",
    "                if link not in visited:\n",
    "                    queue.append((link, depth + 1))\n",
    "\n",
    "    pbar.close()\n",
    "    print(f\"✅ Done: {len(visited)} nodes saved to nobel_nodes.jsonl\")\n",
    "\n",
    "crawl_nobel_graph()\n"
   ]
  },
  {
   "cell_type": "code",
   "execution_count": null,
   "id": "4822879e",
   "metadata": {
    "papermill": {
     "duration": 0.174579,
     "end_time": "2025-10-12T06:29:06.569058",
     "exception": false,
     "start_time": "2025-10-12T06:29:06.394479",
     "status": "completed"
    },
    "tags": []
   },
   "outputs": [],
   "source": []
  }
 ],
 "metadata": {
  "kaggle": {
   "accelerator": "none",
   "dataSources": [],
   "dockerImageVersionId": 31089,
   "isGpuEnabled": false,
   "isInternetEnabled": true,
   "language": "python",
   "sourceType": "notebook"
  },
  "kernelspec": {
   "display_name": "Python 3",
   "language": "python",
   "name": "python3"
  },
  "language_info": {
   "codemirror_mode": {
    "name": "ipython",
    "version": 3
   },
   "file_extension": ".py",
   "mimetype": "text/x-python",
   "name": "python",
   "nbconvert_exporter": "python",
   "pygments_lexer": "ipython3",
   "version": "3.11.13"
  },
  "papermill": {
   "default_parameters": {},
   "duration": 3837.561637,
   "end_time": "2025-10-12T06:29:07.167214",
   "environment_variables": {},
   "exception": null,
   "input_path": "__notebook__.ipynb",
   "output_path": "__notebook__.ipynb",
   "parameters": {},
   "start_time": "2025-10-12T05:25:09.605577",
   "version": "2.6.0"
  }
 },
 "nbformat": 4,
 "nbformat_minor": 5
}
